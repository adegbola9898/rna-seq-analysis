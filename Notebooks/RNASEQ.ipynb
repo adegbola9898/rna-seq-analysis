{
  "nbformat": 4,
  "nbformat_minor": 0,
  "metadata": {
    "colab": {
      "provenance": []
    },
    "kernelspec": {
      "name": "python3",
      "display_name": "Python 3"
    },
    "language_info": {
      "name": "python"
    }
  },
  "cells": [
    {
      "cell_type": "code",
      "source": [
        "import pandas as pd\n"
      ],
      "metadata": {
        "id": "oVVxDdm3-XQT"
      },
      "execution_count": null,
      "outputs": []
    },
    {
      "cell_type": "code",
      "source": [
        "import pandas as pd\n",
        "import os\n",
        "\n",
        "# Initialize an empty DataFrame or the first DataFrame\n",
        "key_df = None\n",
        "\n",
        "# List all files and merge them horizontally\n",
        "for filename in os.listdir('/content'):\n",
        "    if filename.endswith('.csv'):\n",
        "        # Read the CSV file\n",
        "        data = pd.read_csv('/content/' + filename)\n",
        "\n",
        "        # Extract the sample identifier from the filename\n",
        "        sample_id = filename.replace('.csv', '')\n",
        "\n",
        "        # Select and rename the necessary columns\n",
        "        data = data[['gene_id', 'expected_count']].rename(columns={'expected_count': sample_id})\n",
        "\n",
        "        if key_df is None:\n",
        "            key_df = data\n",
        "        else:\n",
        "            # Merge while avoiding duplicate column names\n",
        "            key_df = key_df.merge(data, on='gene_id', how='outer')\n",
        "\n",
        "\n"
      ],
      "metadata": {
        "id": "B7PlmRg7A4v0"
      },
      "execution_count": null,
      "outputs": []
    },
    {
      "cell_type": "code",
      "source": [
        "print(key_df.head())\n"
      ],
      "metadata": {
        "colab": {
          "base_uri": "https://localhost:8080/",
          "height": 175
        },
        "id": "2p_J-bxnBBIX",
        "outputId": "47a61d82-dba3-450a-c302-28081dd2a7de"
      },
      "execution_count": null,
      "outputs": [
        {
          "output_type": "error",
          "ename": "AttributeError",
          "evalue": "'NoneType' object has no attribute 'head'",
          "traceback": [
            "\u001b[0;31m---------------------------------------------------------------------------\u001b[0m",
            "\u001b[0;31mAttributeError\u001b[0m                            Traceback (most recent call last)",
            "\u001b[0;32m<ipython-input-3-28f2e0f2cd8b>\u001b[0m in \u001b[0;36m<cell line: 1>\u001b[0;34m()\u001b[0m\n\u001b[0;32m----> 1\u001b[0;31m \u001b[0mprint\u001b[0m\u001b[0;34m(\u001b[0m\u001b[0mkey_df\u001b[0m\u001b[0;34m.\u001b[0m\u001b[0mhead\u001b[0m\u001b[0;34m(\u001b[0m\u001b[0;34m)\u001b[0m\u001b[0;34m)\u001b[0m\u001b[0;34m\u001b[0m\u001b[0;34m\u001b[0m\u001b[0m\n\u001b[0m",
            "\u001b[0;31mAttributeError\u001b[0m: 'NoneType' object has no attribute 'head'"
          ]
        }
      ]
    },
    {
      "cell_type": "code",
      "source": [
        "# Save the DataFrame to a CSV file\n",
        "key_df.to_csv('combined_data.csv', index=False)"
      ],
      "metadata": {
        "id": "1BqKKiAPqAXm"
      },
      "execution_count": null,
      "outputs": []
    },
    {
      "cell_type": "code",
      "source": [
        "# Download the file\n",
        "from google.colab import files\n",
        "files.download('combined_data.csv')"
      ],
      "metadata": {
        "colab": {
          "base_uri": "https://localhost:8080/",
          "height": 17
        },
        "id": "slKl0TwhqEDE",
        "outputId": "03e39a77-ede5-4677-be24-39967ddfe888"
      },
      "execution_count": null,
      "outputs": [
        {
          "output_type": "display_data",
          "data": {
            "text/plain": [
              "<IPython.core.display.Javascript object>"
            ],
            "application/javascript": [
              "\n",
              "    async function download(id, filename, size) {\n",
              "      if (!google.colab.kernel.accessAllowed) {\n",
              "        return;\n",
              "      }\n",
              "      const div = document.createElement('div');\n",
              "      const label = document.createElement('label');\n",
              "      label.textContent = `Downloading \"${filename}\": `;\n",
              "      div.appendChild(label);\n",
              "      const progress = document.createElement('progress');\n",
              "      progress.max = size;\n",
              "      div.appendChild(progress);\n",
              "      document.body.appendChild(div);\n",
              "\n",
              "      const buffers = [];\n",
              "      let downloaded = 0;\n",
              "\n",
              "      const channel = await google.colab.kernel.comms.open(id);\n",
              "      // Send a message to notify the kernel that we're ready.\n",
              "      channel.send({})\n",
              "\n",
              "      for await (const message of channel.messages) {\n",
              "        // Send a message to notify the kernel that we're ready.\n",
              "        channel.send({})\n",
              "        if (message.buffers) {\n",
              "          for (const buffer of message.buffers) {\n",
              "            buffers.push(buffer);\n",
              "            downloaded += buffer.byteLength;\n",
              "            progress.value = downloaded;\n",
              "          }\n",
              "        }\n",
              "      }\n",
              "      const blob = new Blob(buffers, {type: 'application/binary'});\n",
              "      const a = document.createElement('a');\n",
              "      a.href = window.URL.createObjectURL(blob);\n",
              "      a.download = filename;\n",
              "      div.appendChild(a);\n",
              "      a.click();\n",
              "      div.remove();\n",
              "    }\n",
              "  "
            ]
          },
          "metadata": {}
        },
        {
          "output_type": "display_data",
          "data": {
            "text/plain": [
              "<IPython.core.display.Javascript object>"
            ],
            "application/javascript": [
              "download(\"download_26e76531-40a6-4b70-9c90-68ba94d5420e\", \"combined_data.csv\", 6769424)"
            ]
          },
          "metadata": {}
        }
      ]
    },
    {
      "cell_type": "code",
      "source": [
        "conditions_dict = {\n",
        "    \"HER2 Positive Breast Tumor\": [\"IP2-53\", \"83\", \"56_s\", \"26\", \"171\"],\n",
        "    \"Non-TNBC Breast Tumor\": [\"IP2-71\", \"IP2-66\", \"IP2-65\", \"IP2-49\", \"IP2-48\", \"IP2-42\"],\n",
        "    \"TNBC Breast Tumor\": [\"IP2-90\", \"IP2-83\", \"IP2-78\", \"IP2-76\", \"IP2-69\", \"IP2-50\"],\n",
        "    \"Normal Human Breast Organoids\": [\"NBS1_read\", \"NBS2\", \"NBS3\"]\n",
        "}\n"
      ],
      "metadata": {
        "id": "Zb-_umPtfJDr"
      },
      "execution_count": null,
      "outputs": []
    },
    {
      "cell_type": "code",
      "source": [
        "# Initialize an empty DataFrame\n",
        "col_data = pd.DataFrame(columns=['sample', 'condition'])\n",
        "\n",
        "# Populate the DataFrame\n",
        "for condition, samples in conditions_dict.items():\n",
        "    temp_df = pd.DataFrame({\n",
        "        'sample': samples,\n",
        "        'condition': condition\n",
        "    })\n",
        "    col_data = pd.concat([col_data, temp_df], ignore_index=True)\n",
        "\n",
        "# Display the DataFrame\n",
        "print(col_data)\n"
      ],
      "metadata": {
        "colab": {
          "base_uri": "https://localhost:8080/"
        },
        "id": "eiq8F2-zfYaZ",
        "outputId": "9b9528aa-e962-45b4-b2ff-dbf22d598e86"
      },
      "execution_count": null,
      "outputs": [
        {
          "output_type": "stream",
          "name": "stdout",
          "text": [
            "       sample                      condition\n",
            "0      IP2-53     HER2 Positive Breast Tumor\n",
            "1          83     HER2 Positive Breast Tumor\n",
            "2        56_s     HER2 Positive Breast Tumor\n",
            "3          26     HER2 Positive Breast Tumor\n",
            "4         171     HER2 Positive Breast Tumor\n",
            "5      IP2-71          Non-TNBC Breast Tumor\n",
            "6      IP2-66          Non-TNBC Breast Tumor\n",
            "7      IP2-65          Non-TNBC Breast Tumor\n",
            "8      IP2-49          Non-TNBC Breast Tumor\n",
            "9      IP2-48          Non-TNBC Breast Tumor\n",
            "10     IP2-42          Non-TNBC Breast Tumor\n",
            "11     IP2-90              TNBC Breast Tumor\n",
            "12     IP2-83              TNBC Breast Tumor\n",
            "13     IP2-78              TNBC Breast Tumor\n",
            "14     IP2-76              TNBC Breast Tumor\n",
            "15     IP2-69              TNBC Breast Tumor\n",
            "16     IP2-50              TNBC Breast Tumor\n",
            "17  NBS1_read  Normal Human Breast Organoids\n",
            "18       NBS2  Normal Human Breast Organoids\n",
            "19       NBS3  Normal Human Breast Organoids\n"
          ]
        }
      ]
    },
    {
      "cell_type": "code",
      "source": [
        "col_data.to_csv('col_data.csv', index=False)\n"
      ],
      "metadata": {
        "id": "jCfZogmbfkNh"
      },
      "execution_count": null,
      "outputs": []
    },
    {
      "cell_type": "code",
      "source": [
        "from google.colab import files\n",
        "files.download('col_data.csv')\n"
      ],
      "metadata": {
        "colab": {
          "base_uri": "https://localhost:8080/",
          "height": 17
        },
        "id": "vKZqM_cAfvN9",
        "outputId": "94db8355-69d8-46bb-d72d-368e87dd3454"
      },
      "execution_count": null,
      "outputs": [
        {
          "output_type": "display_data",
          "data": {
            "text/plain": [
              "<IPython.core.display.Javascript object>"
            ],
            "application/javascript": [
              "\n",
              "    async function download(id, filename, size) {\n",
              "      if (!google.colab.kernel.accessAllowed) {\n",
              "        return;\n",
              "      }\n",
              "      const div = document.createElement('div');\n",
              "      const label = document.createElement('label');\n",
              "      label.textContent = `Downloading \"${filename}\": `;\n",
              "      div.appendChild(label);\n",
              "      const progress = document.createElement('progress');\n",
              "      progress.max = size;\n",
              "      div.appendChild(progress);\n",
              "      document.body.appendChild(div);\n",
              "\n",
              "      const buffers = [];\n",
              "      let downloaded = 0;\n",
              "\n",
              "      const channel = await google.colab.kernel.comms.open(id);\n",
              "      // Send a message to notify the kernel that we're ready.\n",
              "      channel.send({})\n",
              "\n",
              "      for await (const message of channel.messages) {\n",
              "        // Send a message to notify the kernel that we're ready.\n",
              "        channel.send({})\n",
              "        if (message.buffers) {\n",
              "          for (const buffer of message.buffers) {\n",
              "            buffers.push(buffer);\n",
              "            downloaded += buffer.byteLength;\n",
              "            progress.value = downloaded;\n",
              "          }\n",
              "        }\n",
              "      }\n",
              "      const blob = new Blob(buffers, {type: 'application/binary'});\n",
              "      const a = document.createElement('a');\n",
              "      a.href = window.URL.createObjectURL(blob);\n",
              "      a.download = filename;\n",
              "      div.appendChild(a);\n",
              "      a.click();\n",
              "      div.remove();\n",
              "    }\n",
              "  "
            ]
          },
          "metadata": {}
        },
        {
          "output_type": "display_data",
          "data": {
            "text/plain": [
              "<IPython.core.display.Javascript object>"
            ],
            "application/javascript": [
              "download(\"download_c4f2eb6b-1761-4e5c-a0a2-6b5af2a913ae\", \"col_data.csv\", 608)"
            ]
          },
          "metadata": {}
        }
      ]
    }
  ]
}